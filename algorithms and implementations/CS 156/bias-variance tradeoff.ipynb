{
 "cells": [
  {
   "cell_type": "markdown",
   "metadata": {},
   "source": [
    "### Overview\n",
    "\n",
    "Consider a target function $f : [-1, 1] \\rightarrow \\mathbb{R}$ given by $f(x) = sin(\\pi x)$, with the input probability distribution uniform on $[-1, 1]$. Assume the training set only has two examples ($N = 2$), and the learning algorithm produces the hypothesis that minimizes the mean squared error on the examples.\n",
    "\n",
    "The hypothesis set $\\mathcal{H}$ consists of all hypotheses in the form of $h(x) = ax$. The learning algorithm implements $\\mathcal{H}$.\n",
    "\n",
    "We will find the bias and variance of this model."
   ]
  },
  {
   "cell_type": "code",
   "execution_count": 907,
   "metadata": {},
   "outputs": [],
   "source": [
    "%matplotlib inline\n",
    "\n",
    "import random\n",
    "\n",
    "import matplotlib.pyplot as plt\n",
    "import numpy as np"
   ]
  },
  {
   "cell_type": "markdown",
   "metadata": {},
   "source": [
    "The target function $f(x) = sin(\\pi x)$"
   ]
  },
  {
   "cell_type": "code",
   "execution_count": 908,
   "metadata": {},
   "outputs": [],
   "source": [
    "def f(x):\n",
    "    return np.sin(np.pi*x)"
   ]
  },
  {
   "cell_type": "code",
   "execution_count": 909,
   "metadata": {},
   "outputs": [],
   "source": [
    "def generate_data(N):\n",
    "    '''\n",
    "    Creates N random training examples from the target function f.\n",
    "    '''\n",
    "    data = []\n",
    "    for i in range(N):\n",
    "        x = np.random.uniform(-1, 1)\n",
    "        y = f(x)\n",
    "        data.append((x, y))\n",
    "    return data"
   ]
  },
  {
   "cell_type": "code",
   "execution_count": 910,
   "metadata": {
    "scrolled": true
   },
   "outputs": [],
   "source": [
    "def linear_regression(data):\n",
    "    '''\n",
    "    data - a list of (x, y) training examples\n",
    "    \n",
    "    Implements h(x) = ax, returning the list of weights (in this case,\n",
    "    just contains 'a') of the hypothesis that minimizes the sum of \n",
    "    square error.\n",
    "    '''\n",
    "    X = np.array([])\n",
    "    Y = np.array([])\n",
    "    for x_, y_ in data:\n",
    "        try:\n",
    "            X = np.vstack((X, np.array([x_])))\n",
    "        except ValueError:\n",
    "            X = np.array([x_])\n",
    "        try:\n",
    "            Y = np.vstack((Y, np.array(y_)))\n",
    "        except ValueError:\n",
    "            Y = np.array(y_)\n",
    "    X_dagger = np.linalg.pinv(X)\n",
    "    w = np.matmul(X_dagger, Y)\n",
    "    return w"
   ]
  },
  {
   "cell_type": "markdown",
   "metadata": {},
   "source": [
    "This is an example of the learning algorithm on one random data set."
   ]
  },
  {
   "cell_type": "code",
   "execution_count": 911,
   "metadata": {
    "scrolled": false
   },
   "outputs": [
    {
     "data": {
      "image/png": "[encoded data removed]",
      "text/plain": [
       "<Figure size 432x288 with 1 Axes>"
      ]
     },
     "metadata": {
      "needs_background": "light"
     },
     "output_type": "display_data"
    }
   ],
   "source": [
    "data = generate_data(2)\n",
    "w = linear_regression(data)\n",
    "\n",
    "x = np.linspace(-1, 1, 1000)\n",
    "plt.ylim(-1, 1)\n",
    "\n",
    "plt.plot(x, w[0, 0]*x)\n",
    "plt.plot(x, f(x))\n",
    "plt.plot(0, 0, 'go')\n",
    "for pointx, pointy in data:\n",
    "    plt.plot(pointx, pointy, 'ro')"
   ]
  },
  {
   "cell_type": "markdown",
   "metadata": {},
   "source": [
    "Next, we find out what the \"average\" hypothesis $\\bar{g}(x)$ is, where $\\bar{g}(x) = \\mathbb{E}_\\mathcal{D}\\big[g^{(\\mathcal{D})}(x)\\big]$. This represents the hypothesis we are expected to get after running the learning algorithm across a large number of data sets.\n",
    "\n",
    "To do so, we simulate the learning algorithm on a large number of different data sets and average all of the parameters obtained by the algorithm. Specifically, we are computing $\\bar{a}$ in $\\bar{g}(x) = \\bar{a}x$."
   ]
  },
  {
   "cell_type": "code",
   "execution_count": 912,
   "metadata": {
    "scrolled": false
   },
   "outputs": [
    {
     "data": {
      "text/plain": [
       "1.440892378141992"
      ]
     },
     "execution_count": 912,
     "metadata": {},
     "output_type": "execute_result"
    }
   ],
   "source": [
    "average = 0\n",
    "for i in range(1000):\n",
    "    data = generate_data(2)\n",
    "    w = linear_regression(data)\n",
    "    average += w[0,0]\n",
    "average /= 1000\n",
    "average"
   ]
  },
  {
   "cell_type": "markdown",
   "metadata": {},
   "source": [
    "We now compute the bias:\n",
    "\n",
    "bias = $\\mathbb{E}_x\\big[(\\bar{g}(x) - f(x))^2\\big]$\n",
    "\n",
    "We are assuming the distrubution of the $x$ values is uniform, so we just integrate $bias(x)$ with respect to x and divide by the length of the interval:\n",
    "\n",
    "$\n",
    "\\begin{align}\n",
    "&= \\frac12\\int_{-1}^1(\\bar{g}(x) - f(x))^2dx\\\\\n",
    "&= \\frac12\\int_{-1}^1(\\bar{a}x - sin(\\pi x))^2dx\n",
    "\\end{align}\n",
    "$\n",
    "\n",
    "Solving the integral, the bias is around 0.3.\n",
    "\n",
    "Note: $\\hat{a}$, and therefore the bias, vary depending on $N$. Bias seems to decrease with larger $N$. Is bias not a constant property of $\\mathcal{H}$?"
   ]
  },
  {
   "cell_type": "markdown",
   "metadata": {},
   "source": [
    "variance = $\\mathbb{E}_x\\big[\\mathbb{E}_\\mathcal{D}\\big[(g^\\mathcal{D}(x)-\\bar{g}(x))^2\\big]\\big] = \\mathbb{E}_x\\big[var(x)\\big]$\n",
    "\n",
    "$\n",
    "\\begin{gather}\n",
    "g^\\mathcal{D}(x) = \\hat{a}_\\mathcal{D}x\n",
    "\\\\\n",
    "\\bar{g}(x) = \\bar{a}x\n",
    "\\end{gather}\n",
    "$\n",
    "\n",
    "$\n",
    "\\begin{align}\n",
    "var(x) &= \\mathbb{E}_\\mathcal{D}\\big[(\\hat{a}x - \\bar{a}x)^2\\big]\\\\\n",
    "&= \\frac{1}{k}\\sum_{\\mathcal{D}}(\\hat{a}^2x-\\bar{a}x)^2\\\\\n",
    "&= \\frac1k\\big(\\sum_{\\mathcal{D}}\\hat{a}^2x^2+\\sum_{\\mathcal{D}}\\bar{a}^2x^2-\\sum_{\\mathcal{D}}2\\hat{a}\\bar{a}x^2\\big)\\\\\n",
    "&= \\bar{a}^2x^2 + \\frac{x^2}{k}\\big(\\sum_{\\mathcal{D}}\\hat{a}^2 - 2\\bar{a}\\sum_{\\mathcal{D}}\\hat{a}\\big)\\\\\n",
    "&= \\big(\\bar{a}^2 + \\frac1k\\big(\\sum_{\\mathcal{D}}\\hat{a}^2 - 2\\bar{a}\\sum_{\\mathcal{D}}\\hat{a}\\big)\\big)x^2\n",
    "\\end{align}\n",
    "$\n",
    "\n",
    "Computationally, we can generate $k$ different data sets and find $\\sum_{\\mathcal{D}}\\hat{a}^2$ and $\\sum_{\\mathcal{D}}\\hat{a}$. $\\bar{a}$ is a constant that is already determined, and $x$ for the purposes of computing $var(x)$ is a constant. Once we have $var(x)$, we can integrate with respect to $x$ to get the variance.\n",
    "\n",
    "variance = $\\frac12\\int_{-1}^1var(x)dx$ \n",
    "\n",
    "$\n",
    "\\begin{align}\n",
    "&= \\frac{1}{2}\\int_{-1}^1\\big(\\bar{a}^2 + \\frac1k\\big(\\sum_{\\mathcal{D}}\\hat{a}^2 - 2\\bar{a}\\sum_{\\mathcal{D}}\\hat{a}\\big)\\big)x^2dx\\\\\n",
    "&= \\frac{1}{2}\\big(\\bar{a}^2 + \\frac1k\\big(\\sum_{\\mathcal{D}}\\hat{a}^2 - 2\\bar{a}\\sum_{\\mathcal{D}}\\hat{a}\\big)\\big)\\int_{-1}^1x^2dx\\\\\n",
    "&= \\frac{1}{3}\\big(\\bar{a}^2 + \\frac1k\\big(\\sum_{\\mathcal{D}}\\hat{a}^2 - 2\\bar{a}\\sum_{\\mathcal{D}}\\hat{a}\\big)\\big)\n",
    "\\end{align}\n",
    "$"
   ]
  },
  {
   "cell_type": "code",
   "execution_count": 922,
   "metadata": {
    "scrolled": true
   },
   "outputs": [
    {
     "data": {
      "text/plain": [
       "(1480.0983473132871, 2900.0835154865454)"
      ]
     },
     "execution_count": 922,
     "metadata": {},
     "output_type": "execute_result"
    }
   ],
   "source": [
    "sum_of_a_hat_squared = 0\n",
    "sum_of_a_hat = 0\n",
    "k = 1000\n",
    "for i in range(k):\n",
    "    data = generate_data(2)\n",
    "    w = linear_regression(data)\n",
    "    sum_of_a_hat += w[0,0]\n",
    "    sum_of_a_hat_squared += w[0,0]**2\n",
    "sum_of_a_hat, sum_of_a_hat_squared"
   ]
  },
  {
   "cell_type": "markdown",
   "metadata": {},
   "source": [
    "Thus, variance is about 0.2 "
   ]
  },
  {
   "cell_type": "markdown",
   "metadata": {},
   "source": [
    "### Conclusion\n",
    "\n",
    "The $E_{out}$ is the sum of the bias and variance, which is about 0.5. \n",
    "\n",
    "We have calculated that for a model $h(x) = b$, the $E_{out}$ is about 0.75 (bias = 0.5, variance = 0.25), and for a model $h(x) = ax + b$, $E_{out}$ is about 1.9 (bias = 0.21, variance = 1.69). Thus, among the three models, $h(x) = ax$ is the best, given only $N = 2$.\n"
   ]
  }
 ],
 "metadata": {
  "kernelspec": {
   "display_name": "Python 3",
   "language": "python",
   "name": "python3"
  },
  "language_info": {
   "codemirror_mode": {
    "name": "ipython",
    "version": 3
   },
   "file_extension": ".py",
   "mimetype": "text/x-python",
   "name": "python",
   "nbconvert_exporter": "python",
   "pygments_lexer": "ipython3",
   "version": "3.7.0"
  }
 },
 "nbformat": 4,
 "nbformat_minor": 2
}
