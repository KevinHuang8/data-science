{
 "cells": [
  {
   "cell_type": "markdown",
   "metadata": {},
   "source": [
    "### Overview\n",
    "\n",
    "We will be illustrating using gradient descent to minimize a function.\n",
    "\n",
    "Suppose we have an error surface defined by $E(u, v) = (ue^v-2ve^{-u})^2$\n",
    "\n",
    "We have that \n",
    "\n",
    "$\n",
    "\\begin{align}\n",
    "\\frac{\\partial E}{\\partial u} &= 2(ue^v-2ve^{-u})(e^v + 2ve^{-u})\\\\\n",
    "\\frac{\\partial E}{\\partial v} &= 2(ue^v-2ve^{-u})(ue^v - 2e^{-u})\n",
    "\\end{align}\n",
    "$"
   ]
  },
  {
   "cell_type": "code",
   "execution_count": 43,
   "metadata": {
    "scrolled": true
   },
   "outputs": [
    {
     "data": {
      "text/plain": [
       "(0.04473629039778207, 0.023958714099141746, 10)"
      ]
     },
     "execution_count": 43,
     "metadata": {},
     "output_type": "execute_result"
    }
   ],
   "source": [
    "from math import exp\n",
    "\n",
    "def E(u, v):\n",
    "    return (u*exp(v) - 2*v*exp(-u))**2\n",
    "\n",
    "def gradient_descent(tolerance=1e-14, learning_rate=0.1):\n",
    "    u = 1\n",
    "    v = 1\n",
    "    iterations = 0\n",
    "    \n",
    "    while iterations <= 15:\n",
    "        u -= learning_rate * (2*(u*exp(v) - 2*v*exp(-u))*(exp(v) + 2*v*exp(-u)))\n",
    "        v -= learning_rate * (2*(u*exp(v) - 2*v*exp(-u))*(u*exp(v) - 2*exp(-u)))\n",
    "        iterations += 1\n",
    "        u -= du\n",
    "        v -= dv\n",
    "        \n",
    "    return u, v, iterations\n",
    "\n",
    "gradient_descent()"
   ]
  }
 ],
 "metadata": {
  "kernelspec": {
   "display_name": "Python 3",
   "language": "python",
   "name": "python3"
  },
  "language_info": {
   "codemirror_mode": {
    "name": "ipython",
    "version": 3
   },
   "file_extension": ".py",
   "mimetype": "text/x-python",
   "name": "python",
   "nbconvert_exporter": "python",
   "pygments_lexer": "ipython3",
   "version": "3.7.0"
  }
 },
 "nbformat": 4,
 "nbformat_minor": 2
}
