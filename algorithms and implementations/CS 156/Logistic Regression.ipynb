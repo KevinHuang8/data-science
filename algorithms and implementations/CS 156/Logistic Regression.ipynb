{
 "cells": [
  {
   "cell_type": "code",
   "execution_count": 615,
   "metadata": {},
   "outputs": [],
   "source": [
    "%matplotlib inline\n",
    "\n",
    "from copy import copy\n",
    "\n",
    "import matplotlib.pyplot as plt\n",
    "import numpy as np"
   ]
  },
  {
   "cell_type": "code",
   "execution_count": 616,
   "metadata": {
    "scrolled": true
   },
   "outputs": [],
   "source": [
    "def random_target():\n",
    "    # Two random points (p, q) and (r, s)\n",
    "    p = np.random.uniform(-1, 1)\n",
    "    q = np.random.uniform(-1, 1)\n",
    "    r = np.random.uniform(-1, 1)\n",
    "    s = np.random.uniform(-1, 1)\n",
    "\n",
    "    # Weights are the coefficients in ax + by + c = 0 form, so\n",
    "    # must convert two points into general form.\n",
    "    # Point slope form: y - y0 = m(x - x0)\n",
    "    # Converted to general form: -mx + y + (-y0 + m*x0) = 0\n",
    "    # where m = (q - s)/(p - r), y0 = q, x0 = p\n",
    "    # Thus, a = -(q - s)/(p - r), b = 1, c = -q + p*(q - s)/(p - r)\n",
    "\n",
    "    a = -(q - s)/(p - r)\n",
    "    b = 1\n",
    "    c = -q + p*(q - s)/(p - r)\n",
    "\n",
    "    target_weights = np.array([c, a, b])\n",
    "\n",
    "    return target_weights"
   ]
  },
  {
   "cell_type": "code",
   "execution_count": 617,
   "metadata": {},
   "outputs": [],
   "source": [
    "def generate_data(N, target_weights):\n",
    "    '''\n",
    "    Creates N random training examples of dimension d from the target function f.\n",
    "    '''\n",
    "    data = []\n",
    "    for i in range(N):\n",
    "        x = np.array([1])\n",
    "        for j in range(2):\n",
    "            x = np.append(x, np.random.uniform(-1, 1))\n",
    "        if np.dot(target_weights, x) > 0:\n",
    "            y = 1\n",
    "        else:\n",
    "            y = -1\n",
    "        data.append((x, y))\n",
    "    return data"
   ]
  },
  {
   "cell_type": "code",
   "execution_count": 621,
   "metadata": {},
   "outputs": [
    {
     "name": "stdout",
     "output_type": "stream",
     "text": [
      "0.1030954332653942 340.99\n"
     ]
    }
   ],
   "source": [
    "total_eout = 0\n",
    "total_epochs = 0\n",
    "k = 100\n",
    "\n",
    "for trial in range(k):\n",
    "    s = random_target()\n",
    "    data = generate_data(100, s)\n",
    "    w = np.array([0.0, 0.0, 0.0])\n",
    "\n",
    "    change = 99999\n",
    "    data_it = iter(np.random.permutation(data))\n",
    "    prev_w = copy(w)\n",
    "    iteration = 0\n",
    "    epoch = 0\n",
    "    while change >= 0.01:\n",
    "        try:\n",
    "            x, y = next(data_it)\n",
    "        except StopIteration:\n",
    "            epoch += 1\n",
    "            change = np.linalg.norm(prev_w - w)\n",
    "            prev_w = copy(w)\n",
    "            data_it = iter(np.random.permutation(data))\n",
    "            x, y = next(data_it)\n",
    "        de = -(y*x / (1 + np.exp(y*np.dot(w, x))))\n",
    "        w -= 0.01 * de\n",
    "\n",
    "    eout = 0\n",
    "    for x, y in generate_data(100, s):\n",
    "        eout += np.log(1 + np.exp(-y*np.dot(w, x)))\n",
    "    eout /= len(data)\n",
    "\n",
    "    total_eout += eout\n",
    "    total_epochs += epoch\n",
    "\n",
    "print(total_eout / k, total_epochs / k)"
   ]
  },
  {
   "cell_type": "code",
   "execution_count": null,
   "metadata": {},
   "outputs": [],
   "source": []
  }
 ],
 "metadata": {
  "kernelspec": {
   "display_name": "Python 3",
   "language": "python",
   "name": "python3"
  },
  "language_info": {
   "codemirror_mode": {
    "name": "ipython",
    "version": 3
   },
   "file_extension": ".py",
   "mimetype": "text/x-python",
   "name": "python",
   "nbconvert_exporter": "python",
   "pygments_lexer": "ipython3",
   "version": "3.7.0"
  }
 },
 "nbformat": 4,
 "nbformat_minor": 2
}
