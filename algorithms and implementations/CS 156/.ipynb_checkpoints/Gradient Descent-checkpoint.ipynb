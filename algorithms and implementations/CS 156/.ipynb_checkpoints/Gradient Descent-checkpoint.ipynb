{
 "cells": [
  {
   "cell_type": "markdown",
   "metadata": {},
   "source": [
    "### Overview\n",
    "\n",
    "We will be illustrating using gradient descent to minimize a function.\n",
    "\n",
    "Suppose we have an error surface defined by $E(u, v) = (ue^v-2ve^{-u})^2$\n",
    "\n",
    "We have that \n",
    "\n",
    "$\n",
    "\\begin{align}\n",
    "\\frac{\\partial E}{\\partial u} &= 2(ue^v-2ve^{-u})(e^v + 2ve^{-u})\\\\\n",
    "\\frac{\\partial E}{\\partial v} &= 2(ue^v-2ve^{-u})(ue^v - 2e^{-u})\n",
    "\\end{align}\n",
    "$"
   ]
  },
  {
   "cell_type": "code",
   "execution_count": 18,
   "metadata": {
    "scrolled": true
   },
   "outputs": [
    {
     "name": "stdout",
     "output_type": "stream",
     "text": [
      "1 0.31522850340158015 0.9637157183161631 0.33634280992962556\n",
      "2 0.4447107652506278 0.9629051461150087 0.0048489441416542985\n",
      "3 0.46141807889386727 0.9628768614283155 2.9357732555861024e-05\n",
      "4 0.4627306728624182 0.9628750332606111 1.503952909869561e-07\n",
      "5 0.4628246919848664 0.9628749043188305 7.597967090200997e-10\n",
      "6 0.4628313749841686 0.9628748951636231 3.834645788663458e-12\n",
      "7 0.4628318497582682 0.9628748945132695 1.9351834628142132e-14\n",
      "8 0.46283188348587945 0.9628748944670691 9.766002182388126e-17\n"
     ]
    },
    {
     "data": {
      "text/plain": [
       "(0.46283188348587945, 0.9628748944670691, 8)"
      ]
     },
     "execution_count": 18,
     "metadata": {},
     "output_type": "execute_result"
    }
   ],
   "source": [
    "from math import exp\n",
    "\n",
    "def E(u, v):\n",
    "    return (u*exp(v) - 2*v*exp(-u))**2\n",
    "\n",
    "def gradient_descent(tolerance=1e-14, learning_rate=0.05):\n",
    "    u = 1\n",
    "    v = 1\n",
    "    iterations = 0\n",
    "    \n",
    "    while E(u, v) >= tolerance:\n",
    "        u -= learning_rate * (2*(u*exp(v) - 2*v*exp(-u))*(exp(v) + 2*v*exp(-u)))\n",
    "        v -= learning_rate * (2*(u*exp(v) - 2*v*exp(-u))*(u*exp(v) - 2*exp(-u)))\n",
    "        iterations += 1\n",
    "        print(iterations, u, v, E(u, v))\n",
    "        \n",
    "    return u, v, iterations\n",
    "\n",
    "gradient_descent()"
   ]
  },
  {
   "cell_type": "code",
   "execution_count": 17,
   "metadata": {},
   "outputs": [
    {
     "data": {
      "text/plain": [
       "0.006737946999085467"
      ]
     },
     "execution_count": 17,
     "metadata": {},
     "output_type": "execute_result"
    }
   ],
   "source": [
    "exp(-5)"
   ]
  }
 ],
 "metadata": {
  "kernelspec": {
   "display_name": "Python 3",
   "language": "python",
   "name": "python3"
  },
  "language_info": {
   "codemirror_mode": {
    "name": "ipython",
    "version": 3
   },
   "file_extension": ".py",
   "mimetype": "text/x-python",
   "name": "python",
   "nbconvert_exporter": "python",
   "pygments_lexer": "ipython3",
   "version": "3.7.0"
  }
 },
 "nbformat": 4,
 "nbformat_minor": 2
}
